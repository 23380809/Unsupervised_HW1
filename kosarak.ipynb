{
 "cells": [
  {
   "cell_type": "markdown",
   "metadata": {},
   "source": [
    "# Problem 2 A"
   ]
  },
  {
   "cell_type": "code",
   "execution_count": null,
   "metadata": {},
   "outputs": [],
   "source": [
    "import sys\n",
    "\n",
    "def parse_kosarak_to_sparse_arff(file_path):\n",
    "    with open(file_path, 'r') as file:\n",
    "        transactions = [line.strip().split() for line in file]\n",
    "\n",
    "    sorted_items = sorted(set(item for transaction in transactions for item in transaction.strip().split()), key=lambda x: int(x))\n",
    "\n",
    "    item_index = {item: i for i, item in enumerate(sorted_items)}\n",
    "\n",
    "    content = [\"@relation kosarak\"]\n",
    "\n",
    "    for item in sorted_items:\n",
    "        content.append(f\"@attribute item_{item} {{0, 1}}\")\n",
    "    \n",
    "    content.append(\"@data\")\n",
    "    for transaction in transactions:\n",
    "        indices = [str(item_index[item]) for item in transaction]\n",
    "        content.append(\"{\" + \",\".join(f\"{i} 1\" for i in indices) + \"}\")\n",
    "    \n",
    "    return \"\\n\".join(content)\n",
    "\n",
    "\n",
    "file_path = sys.argv[1]\n",
    "arff_output = parse_kosarak_to_sparse_arff(file_path)\n",
    "print(arff_output)\n"
   ]
  },
  {
   "cell_type": "markdown",
   "metadata": {},
   "source": [
    "# Problem 2 B - convert kosarak dataset into arff"
   ]
  },
  {
   "cell_type": "code",
   "execution_count": 5,
   "metadata": {},
   "outputs": [
    {
     "name": "stdout",
     "output_type": "stream",
     "text": [
      "Conversion took 3.77 seconds\n"
     ]
    }
   ],
   "source": [
    "INPUT_PATH = 'kosarak.dat'\n",
    "OUTPUT_PATH = 'kosarak.arff'\n",
    "import time\n",
    "\n",
    "start_time = time.time()\n",
    "\n",
    "with open(INPUT_PATH, 'r') as infile:\n",
    "    transactions = infile.readlines()\n",
    "\n",
    "sorted_items = sorted(set(item for transaction in transactions for item in transaction.strip().split()), key=lambda x: int(x))\n",
    "\n",
    "item_index = {item: i for i, item in enumerate(sorted_items)}\n",
    "\n",
    "with open(OUTPUT_PATH, 'w') as arff_file:\n",
    "    arff_file.write('@relation kosarak\\n')\n",
    "    \n",
    "    for item in sorted_items:\n",
    "        arff_file.write(f'@attribute item_{item} {{0,1}}\\n')\n",
    "    \n",
    "    arff_file.write('@data\\n')\n",
    "\n",
    "    for t in transactions:\n",
    "        unique_items = set(t.strip().split())\n",
    "        indices = [item_index[item] for item in unique_items]\n",
    "        arff_file.write(\"{\" + \",\".join(f\"{idx} 1\" for idx in sorted(indices)) + \"}\\n\")\n",
    "\n",
    "end_time = time.time()\n",
    "\n",
    "print(f\"Conversion took {end_time - start_time:.2f} seconds\")\n"
   ]
  },
  {
   "cell_type": "markdown",
   "metadata": {},
   "source": [
    "Loading documents on weka takes about 6 seconds."
   ]
  },
  {
   "cell_type": "markdown",
   "metadata": {},
   "source": [
    "# Problem 2 C\n",
    "\n",
    "loading the arff file on weka takes about 6 second."
   ]
  },
  {
   "cell_type": "markdown",
   "metadata": {},
   "source": [
    "# Problem 2 D\n",
    "\n",
    "=== Run information ===\n",
    "\n",
    "Scheme:       weka.associations.FPGrowth -P 2 -I -1 -N 10 -T 0 -C 0.99 -D 0.05 -U 1.0 -M 49500.0\n",
    "Relation:     kosarak\n",
    "Instances:    990002\n",
    "Attributes:   41270\n",
    "              [list of attributes omitted]\n",
    "=== Associator model (full training set) ===\n",
    "\n",
    "FPGrowth found 2 rules (displaying top 2)\n",
    "\n",
    "1. [item_11=1, item_218=1, item_148=1]: 50098 ==> [item_6=1]: 49866   <conf:(1)> lift:(1.64) lev:(0.02) conv:(84.4) \n",
    "2. [item_11=1, item_148=1]: 55759 ==> [item_6=1]: 55230   <conf:(0.99)> lift:(1.63) lev:(0.02) conv:(41.3) \n"
   ]
  },
  {
   "cell_type": "markdown",
   "metadata": {},
   "source": [
    "# Problem 2 E\n",
    "\n",
    "On average, the time taken to find the rules was 3 seconds\n",
    "\n",
    "11:11:40: Started weka.associations.FPGrowth\n",
    "11:11:40: Command: weka.associations.FPGrowth -P 2 -I -1 -N 10 -T 0 -C 99.0 -D 0.05 -U 1.0 -M 49500.0\n",
    "11:11:43: Finished weka.associations.FPGrowth\n",
    "11:12:03: Started weka.associations.FPGrowth\n",
    "11:12:03: Command: weka.associations.FPGrowth -P 2 -I -1 -N 10 -T 0 -C 0.99 -D 0.05 -U 1.0 -M 49500.0\n",
    "11:12:06: Finished weka.associations.FPGrowth\n",
    "11:12:25: Started weka.associations.FPGrowth\n",
    "11:12:25: Command: weka.associations.FPGrowth -P 2 -I -1 -N 10 -T 0 -C 0.99 -D 0.05 -U 1.0 -M 49500.0\n",
    "11:12:27: Finished weka.associations.FPGrowth\n",
    "11:12:28: Started weka.associations.FPGrowth\n",
    "11:12:28: Command: weka.associations.FPGrowth -P 2 -I -1 -N 10 -T 0 -C 0.99 -D 0.05 -U 1.0 -M 49500.0\n",
    "11:12:30: Finished weka.associations.FPGrowth\n",
    "11:12:35: Started weka.associations.FPGrowth\n",
    "11:12:35: Command: weka.associations.FPGrowth -P 2 -I -1 -N 10 -T 0 -C 0.99 -D 0.05 -U 1.0 -M 49500.0\n",
    "11:12:37: Finished weka.associations.FPGrowth"
   ]
  }
 ],
 "metadata": {
  "kernelspec": {
   "display_name": "3.10.13",
   "language": "python",
   "name": "python3"
  },
  "language_info": {
   "codemirror_mode": {
    "name": "ipython",
    "version": 3
   },
   "file_extension": ".py",
   "mimetype": "text/x-python",
   "name": "python",
   "nbconvert_exporter": "python",
   "pygments_lexer": "ipython3",
   "version": "3.10.13"
  }
 },
 "nbformat": 4,
 "nbformat_minor": 2
}
