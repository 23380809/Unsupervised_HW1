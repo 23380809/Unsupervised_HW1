{
 "cells": [
  {
   "cell_type": "code",
   "execution_count": 5,
   "metadata": {},
   "outputs": [
    {
     "name": "stdout",
     "output_type": "stream",
     "text": [
      "Conversion took 3.77 seconds\n"
     ]
    }
   ],
   "source": [
    "INPUT_PATH = 'kosarak.dat'\n",
    "OUTPUT_PATH = 'kosarak.arff'\n",
    "import time\n",
    "\n",
    "start_time = time.time()\n",
    "\n",
    "with open(INPUT_PATH, 'r') as infile:\n",
    "    transactions = infile.readlines()\n",
    "\n",
    "sorted_items = sorted(set(item for transaction in transactions for item in transaction.strip().split()), key=lambda x: int(x))\n",
    "\n",
    "item_index = {item: i for i, item in enumerate(sorted_items)}\n",
    "\n",
    "with open(OUTPUT_PATH, 'w') as outfile:\n",
    "    outfile.write('@relation kosarak\\n')\n",
    "    \n",
    "    for item in sorted_items:\n",
    "        outfile.write(f'@attribute item_{item} {{0,1}}\\n')\n",
    "    \n",
    "    outfile.write('@data\\n')\n",
    "\n",
    "    for transaction in transactions:\n",
    "        # Use a set to remove duplicate items in the current transaction\n",
    "        unique_items = set(transaction.strip().split())\n",
    "        indices = [item_index[item] for item in unique_items]\n",
    "        outfile.write(\"{\" + \",\".join(f\"{idx} 1\" for idx in sorted(indices)) + \"}\\n\")\n",
    "\n",
    "end_time = time.time()\n",
    "\n",
    "print(f\"Conversion took {end_time - start_time:.2f} seconds\")\n"
   ]
  },
  {
   "cell_type": "markdown",
   "metadata": {},
   "source": [
    "Loading documents on weka takes about 6 seconds."
   ]
  }
 ],
 "metadata": {
  "kernelspec": {
   "display_name": "3.10.13",
   "language": "python",
   "name": "python3"
  },
  "language_info": {
   "codemirror_mode": {
    "name": "ipython",
    "version": 3
   },
   "file_extension": ".py",
   "mimetype": "text/x-python",
   "name": "python",
   "nbconvert_exporter": "python",
   "pygments_lexer": "ipython3",
   "version": "3.10.13"
  }
 },
 "nbformat": 4,
 "nbformat_minor": 2
}
