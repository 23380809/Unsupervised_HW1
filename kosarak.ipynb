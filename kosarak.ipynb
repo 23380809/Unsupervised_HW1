{
 "cells": [
  {
   "cell_type": "code",
   "execution_count": null,
   "metadata": {},
   "outputs": [],
   "source": [
    "\n",
    "import sys\n",
    "\n",
    "def parse_kosarak_to_sparse_arff(file_path):\n",
    "    with open(file_path, 'r') as file:\n",
    "        transactions = [line.strip().split() for line in file]\n",
    "\n",
    "    sorted_items = sorted(set(item for transaction in transactions for item in transaction.strip().split()))\n",
    "\n",
    "    item_index = {item: i for i, item in enumerate(sorted_items)}\n",
    "\n",
    "    item_index = {item: idx for idx, item in enumerate(sorted_items)}\n",
    "\n",
    "    arff_content = []\n",
    "    arff_content.append(\"@relation kosarak\")\n",
    "\n",
    "    for item in sorted_items:\n",
    "        arff_content.append(f\"@attribute item_{item} {{0, 1}}\")\n",
    "    \n",
    "    arff_content.append(\"@data\")\n",
    "    for transaction in transactions:\n",
    "        indices = [str(item_index[item]) for item in transaction]\n",
    "        arff_content.append(\"{\" + \",\".join(f\"{idx} 1\" for idx in indices) + \"}\")\n",
    "    \n",
    "    return \"\\n\".join(arff_content)\n",
    "\n",
    "if __name__ == \"__main__\":\n",
    "\n",
    "    file_path = sys.argv[1]\n",
    "    arff_output = parse_kosarak_to_sparse_arff(file_path)\n",
    "    print(arff_output)\n",
    "\n"
   ]
  },
  {
   "cell_type": "code",
   "execution_count": 3,
   "metadata": {},
   "outputs": [
    {
     "name": "stdout",
     "output_type": "stream",
     "text": [
      "Conversion took 3.43 seconds\n"
     ]
    }
   ],
   "source": [
    "INPUT_PATH = 'kosarak.dat'\n",
    "OUTPUT_PATH = 'kosarak.arff'\n",
    "import time\n",
    "\n",
    "start_time = time.time()\n",
    "\n",
    "with open(INPUT_PATH, 'r') as infile:\n",
    "    transactions = infile.readlines()\n",
    "\n",
    "sorted_items = sorted(set(item for transaction in transactions for item in transaction.strip().split()))\n",
    "\n",
    "item_index = {item: i for i, item in enumerate(sorted_items)}\n",
    "\n",
    "with open(OUTPUT_PATH, 'w') as outfile:\n",
    "    outfile.write('@relation kosarak\\n')\n",
    "    \n",
    "    for item in sorted_items:\n",
    "        outfile.write(f'@attribute item_{item} {{0,1}}\\n')\n",
    "    \n",
    "    outfile.write('@data\\n')\n",
    "\n",
    "    for transaction in transactions:\n",
    "        indices = [item_index[item] for item in transaction.strip().split()]\n",
    "        outfile.write(\"{\" + \",\".join(f\"{idx} 1\" for idx in sorted(indices)) + \"}\\n\")\n",
    "\n",
    "end_time = time.time()\n",
    "\n",
    "print(f\"Conversion took {end_time - start_time:.2f} seconds\")\n"
   ]
  }
 ],
 "metadata": {
  "kernelspec": {
   "display_name": "3.10.13",
   "language": "python",
   "name": "python3"
  },
  "language_info": {
   "codemirror_mode": {
    "name": "ipython",
    "version": 3
   },
   "file_extension": ".py",
   "mimetype": "text/x-python",
   "name": "python",
   "nbconvert_exporter": "python",
   "pygments_lexer": "ipython3",
   "version": "3.10.13"
  }
 },
 "nbformat": 4,
 "nbformat_minor": 2
}
