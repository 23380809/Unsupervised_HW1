{
 "cells": [
  {
   "cell_type": "code",
   "execution_count": null,
   "id": "13ee276e",
   "metadata": {},
   "outputs": [],
   "source": [
    "import pandas as pd\n"
   ]
  },
  {
   "cell_type": "code",
   "execution_count": 57,
   "id": "1fbd0f98",
   "metadata": {},
   "outputs": [
    {
     "name": "stdout",
     "output_type": "stream",
     "text": [
      "1670258\n",
      "273328\n",
      "2385013\n"
     ]
    }
   ],
   "source": [
    "def retrieve_unique_data_by_column(file_path, column):\n",
    "    df = pd.read_csv(file_path)\n",
    "    return len(set(df[column].dropna()))\n",
    "\n",
    "\n",
    "print(retrieve_unique_data_by_column('acm.csv', 'Authors'))\n",
    "print(retrieve_unique_data_by_column('acm.csv', 'Venue'))\n",
    "print(retrieve_unique_data_by_column('acm.csv', 'Index'))\n"
   ]
  },
  {
   "cell_type": "code",
   "execution_count": 54,
   "id": "cae532a8",
   "metadata": {},
   "outputs": [
    {
     "name": "stdout",
     "output_type": "stream",
     "text": [
      "1181415\n"
     ]
    }
   ],
   "source": [
    "\n",
    "def retrieve_unique_references(file_path):\n",
    "    df = pd.read_csv(file_path)\n",
    "    references = []\n",
    "\n",
    "    for ref in df['References'].dropna():\n",
    "        references.extend(ref.split(','))\n",
    "\n",
    "    return len(set(references))\n",
    "\n",
    "print(retrieve_unique_references('acm.csv'))\n"
   ]
  }
 ],
 "metadata": {
  "kernelspec": {
   "display_name": "3.10.13",
   "language": "python",
   "name": "python3"
  },
  "language_info": {
   "codemirror_mode": {
    "name": "ipython",
    "version": 3
   },
   "file_extension": ".py",
   "mimetype": "text/x-python",
   "name": "python",
   "nbconvert_exporter": "python",
   "pygments_lexer": "ipython3",
   "version": "3.10.13"
  }
 },
 "nbformat": 4,
 "nbformat_minor": 5
}
