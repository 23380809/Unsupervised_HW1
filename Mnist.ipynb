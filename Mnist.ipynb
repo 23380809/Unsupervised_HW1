{
 "cells": [
  {
   "cell_type": "code",
   "execution_count": 42,
   "metadata": {},
   "outputs": [],
   "source": [
    "import struct\n",
    "import numpy as np\n",
    "def parse_mnist_images(file_path):\n",
    "    with open(file_path, 'rb') as f:\n",
    "        magic, num_images, num_rows, num_cols = struct.unpack('>IIII', f.read(16))\n",
    "\n",
    "        if magic != 2051:\n",
    "            raise ValueError(\"Invalid magic number in the MNIST image file\")\n",
    "\n",
    "        images = np.fromfile(f, dtype=np.uint8).reshape(num_images, num_rows, num_cols)\n",
    "\n",
    "    return images\n",
    "\n",
    "def parse_mnist_labels(file_path):\n",
    "    with open(file_path, 'rb') as f:\n",
    "        magic, num_labels = struct.unpack('>II', f.read(8))\n",
    "\n",
    "        if magic != 2049:\n",
    "            raise ValueError(\"Invalid magic number in the MNIST label file\")\n",
    "\n",
    "        labels = np.fromfile(f, dtype=np.uint8)\n",
    "\n",
    "    return labels\n",
    "\n",
    "images_path = 'train-images-idx3-ubyte'\n",
    "labels_path = 'train-labels-idx1-ubyte'\n",
    "\n",
    "images = parse_mnist_images(images_path)\n",
    "labels = parse_mnist_labels(labels_path)\n",
    "\n",
    "images = images[:1000]"
   ]
  },
  {
   "cell_type": "code",
   "execution_count": 43,
   "metadata": {},
   "outputs": [
    {
     "name": "stdout",
     "output_type": "stream",
     "text": [
      "Dataset shape: (60000, 28, 28)\n",
      "[0.         0.         0.         0.         0.         0.\n",
      " 0.         0.         0.         0.05490196 0.00392157 0.60392157\n",
      " 0.99215686 0.35294118 0.         0.         0.         0.\n",
      " 0.         0.         0.         0.         0.         0.\n",
      " 0.         0.         0.         0.        ]\n"
     ]
    }
   ],
   "source": [
    "\n",
    "def shift_scale_normalize(images):\n",
    "    flat_images = images.reshape(images.shape[0], -1)\n",
    "    min_val = np.min(flat_images)\n",
    "    max_val = np.max(flat_images)\n",
    "    images_normalized = (flat_images - min_val) / (max_val - min_val)\n",
    "\n",
    "    images_normalized = images_normalized.reshape(images.shape)\n",
    "    \n",
    "    return images_normalized\n",
    "\n",
    "\n",
    "def zero_mean_normalize(images):\n",
    "    flat_images = images.reshape(images.shape[0], -1)\n",
    "\n",
    "    # zero mean normalization formula is (x - mean) / std_dev\n",
    "    images_normalized = (flat_images - np.mean(flat_images)) / np.std(flat_images)\n",
    "\n",
    "    images_normalized = images_normalized.reshape(images.shape)\n",
    "    \n",
    "    return images_normalized\n",
    "\n",
    "\n",
    "images = shift_scale_normalize(images)\n",
    "\n",
    "print(\"Dataset shape:\", images.shape)\n",
    "print(images[0][10])"
   ]
  },
  {
   "cell_type": "code",
   "execution_count": null,
   "metadata": {},
   "outputs": [],
   "source": [
    "from scipy.spatial.distance import cdist\n",
    "\n",
    "\n",
    "def euc_dist(image1, image2):\n",
    "    return np.sqrt(np.sum((image1-image2)**2))\n",
    "\n",
    "def pairwise_distances(images):\n",
    "    \n",
    "    flat_images = images.reshape(images.shape[0], -1)\n",
    "\n",
    "\n",
    "    distances = cdist(flat_images, flat_images, metric='euclidean')\n",
    "\n",
    "    return distances\n",
    "\n",
    "distances = pairwise_distances(images)\n",
    "\n",
    "# print(distances[:5, :5]) \n",
    "print(distances[0])"
   ]
  },
  {
   "cell_type": "code",
   "execution_count": 41,
   "metadata": {},
   "outputs": [
    {
     "name": "stdout",
     "output_type": "stream",
     "text": [
      "100\n",
      "[ 0.          9.36122213 10.87509456 10.01890101 10.48026358 10.12663683\n",
      "  9.5042814   8.50966658  9.31437108 10.07571719  8.39150172 11.24493854\n",
      " 10.45527558 10.30421988  9.32249907 10.3055369   9.61667461  9.0413387\n",
      "  9.26102655  8.96541177 12.3675979  10.43730187  9.53144011 10.04997891\n",
      "  9.46622235 10.71066043  9.76730259  9.36504006 11.14420178 10.59621196\n",
      " 10.15803839 10.30401392  9.3853338   9.30320148  9.76956332 10.22804266\n",
      "  9.34246711 10.2453838   9.97734458  9.39653425  9.41941193  8.47669714\n",
      "  9.36168539  8.40605135  8.97166714 10.26535365  9.94027919  9.78974347\n",
      "  8.7535517   7.52090103  9.45022046 11.54884716 10.38867348  9.64100001\n",
      " 10.19053167 10.39316902 12.21710123  9.72116602 11.30487641  9.85929383\n",
      " 12.51790444 10.05384886  9.34889541 11.65269158 10.98016877 11.16688547\n",
      "  9.74401777  9.54402092 11.51651339 10.78164102  8.21177126 10.36981913\n",
      "  9.32291312  9.79937463  8.38087936 10.37366464 10.36995631  9.77194157\n",
      "  9.62988748 10.55049847 10.52527176  9.49199545 10.91085968 10.24324911\n",
      "  9.3782844   9.13146918 10.52896045 10.2732442  11.54480165 10.68116446\n",
      " 10.3618077  10.62131434 10.03095631  9.86785974  8.93644181 10.0298777\n",
      "  9.56462147  8.85275595  8.4871425   9.263542  ]\n"
     ]
    }
   ],
   "source": [
    "import numpy as np\n",
    "import time\n",
    "\n",
    "def compute_euclidean_distances(images):\n",
    "    flat_images = images.reshape(images.shape[0], -1)\n",
    "    num_images = flat_images.shape[0]\n",
    "    image_length = flat_images.shape[1]\n",
    "    \n",
    "    print(num_images)\n",
    "    distances = np.zeros((num_images, num_images))\n",
    "\n",
    "    for i in range(num_images):\n",
    "        for j in range(i, num_images):\n",
    "            # loop through every pair of images\n",
    "            # calculate the Euclidean distance between the two images\n",
    "            \n",
    "            dist = 0\n",
    "            for k in range(image_length):\n",
    "                dist += (flat_images[i][k] - flat_images[j][k])**2\n",
    "\n",
    "            dist = np.sqrt(dist)\n",
    "            \n",
    "            distances[i, j] = dist\n",
    "            distances[j, i] = dist\n",
    "\n",
    "    return distances\n",
    "\n",
    "distances_manual = compute_euclidean_distances(images)\n",
    "\n",
    "print(distances_manual[0])\n"
   ]
  },
  {
   "cell_type": "code",
   "execution_count": 27,
   "metadata": {},
   "outputs": [
    {
     "name": "stdout",
     "output_type": "stream",
     "text": [
      "[1.         0.55210019 0.21982848 0.33799347 0.34979632 0.45425453\n",
      " 0.41737449 0.66936854 0.35276796 0.37819127 0.62913385 0.0815495\n",
      " 0.49002335 0.42348687 0.36229556 0.39740302 0.46167426 0.5458097\n",
      " 0.37837596 0.47165498 0.27120457 0.4896088  0.36817544 0.3237986\n",
      " 0.45266735 0.51636029 0.30470524 0.68310664 0.49060796 0.22184489\n",
      " 0.40679709 0.48096135 0.40742778 0.46587538 0.57201935 0.27798679\n",
      " 0.57349154 0.53044428 0.39191341 0.5130025  0.37430556 0.61202127\n",
      " 0.35853952 0.54061004 0.46017986 0.38498458 0.39686347 0.43552898\n",
      " 0.48655909 0.7253875  0.41472717 0.48622822 0.41793238 0.36216206\n",
      " 0.3839477  0.4619558  0.38377483 0.40071835 0.40149509 0.35564847\n",
      " 0.18026705 0.32774771 0.55313665 0.48239222 0.32233922 0.14696154\n",
      " 0.48842493 0.36254216 0.23214579 0.53266748 0.59886212 0.32162138\n",
      " 0.34681866 0.45324532 0.60892466 0.48746225 0.38928432 0.37089527\n",
      " 0.42399151 0.34623602 0.36764652 0.59674796 0.49854928 0.42277841\n",
      " 0.43049984 0.52647262 0.31981258 0.42746059 0.3526574  0.33928919\n",
      " 0.4371892  0.36677501 0.28779323 0.48661521 0.56054637 0.56118574\n",
      " 0.40552355 0.58314348 0.55986437 0.37995415]\n"
     ]
    }
   ],
   "source": [
    "def compute_cosine_similarity(images):\n",
    "    #flatten the images to 1D\n",
    "    flat_images = images.reshape(images.shape[0], -1)\n",
    "\n",
    "    # get the dot product of each pair of images\n",
    "    # shape of dot_product: (num_images, num_images)\n",
    "    dot_product = np.dot(flat_images, flat_images.T)\n",
    "    \n",
    "    # calculate the norm of each image\n",
    "    norm = np.linalg.norm(flat_images, axis=1)\n",
    "\n",
    "    # this is the formula of cosine similarity\n",
    "    cosine_similarity = dot_product / np.outer(norm, norm)\n",
    "\n",
    "    return cosine_similarity\n",
    "\n",
    "cosine_similarities_numpy = compute_cosine_similarity(images)\n",
    "print(cosine_similarities_numpy[0])"
   ]
  },
  {
   "cell_type": "code",
   "execution_count": 3,
   "metadata": {},
   "outputs": [
    {
     "name": "stdout",
     "output_type": "stream",
     "text": [
      "From: lerxst@wam.umd.edu (where's my thing)\n",
      "Subject: WHAT car is this!?\n",
      "Nntp-Posting-Host: rac3.wam.umd.edu\n",
      "Organization: University of Maryland, College Park\n",
      "Lines: 15\n",
      "\n",
      " I was wondering if anyone out there could enlighten me on this car I saw\n",
      "the other day. It was a 2-door sports car, looked to be from the late 60s/\n",
      "early 70s. It was called a Bricklin. The doors were really small. In addition,\n",
      "the front bumper was separate from the rest of the body. This is \n",
      "all I know. If anyone can tellme a model name, engine specs, years\n",
      "of production, where this car is made, history, or whatever info you\n",
      "have on this funky looking car, please e-mail.\n",
      "\n",
      "Thanks,\n",
      "- IL\n",
      "   ---- brought to you by your neighborhood Lerxst ----\n",
      "\n",
      "\n",
      "\n",
      "\n",
      "\n",
      "7\n"
     ]
    }
   ],
   "source": [
    "from sklearn.datasets import fetch_20newsgroups\n",
    "\n",
    "ng = fetch_20newsgroups(subset='train') \n",
    "\n",
    "documents = ng.data\n",
    "labels = ng.target\n",
    "\n",
    "print(documents[0])\n",
    "print(labels[0])\n",
    "\n",
    "\n"
   ]
  },
  {
   "cell_type": "code",
   "execution_count": null,
   "metadata": {},
   "outputs": [
    {
     "name": "stdout",
     "output_type": "stream",
     "text": [
      "10\n"
     ]
    }
   ],
   "source": [
    "from sklearn.feature_extraction.text import TfidfVectorizer\n",
    "\n",
    "\n",
    "## by calculating the term frequency, we can get the term frequency matrix\n",
    "def term_frequency_weighting_normalize(documents):\n",
    "    # stop words! remove common english words\n",
    "    # how many of\n",
    "    vectorizer = TfidfVectorizer(norm=None, use_idf=False)\n",
    "    matrix = vectorizer.fit_transform(documents)\n",
    "    \n",
    "    return matrix\n",
    "\n",
    "normalized_documents = term_frequency_weighting_normalize(documents).toarray()\n",
    "\n",
    "normalized_documents = normalized_documents[:10]\n",
    "print(len(normalized_documents))\n",
    "\n",
    "\n",
    "# the cat sat on the mat\n",
    "# "
   ]
  },
  {
   "cell_type": "code",
   "execution_count": 39,
   "metadata": {},
   "outputs": [
    {
     "name": "stdout",
     "output_type": "stream",
     "text": [
      "[ 0.         18.27566688 27.60434748 17.17556404 18.81488772 38.27531842\n",
      " 16.24807681 46.3788745  15.32970972 25.43619468]\n"
     ]
    }
   ],
   "source": [
    "def euclidean_distances(documents):\n",
    "\n",
    "    distances = cdist(documents, documents, metric='euclidean')\n",
    "\n",
    "    return distances\n",
    "\n",
    "distances = pairwise_distances(normalized_documents)\n",
    "print(distances[0])\n",
    "\n",
    "\n"
   ]
  },
  {
   "cell_type": "code",
   "execution_count": 38,
   "metadata": {},
   "outputs": [
    {
     "name": "stdout",
     "output_type": "stream",
     "text": [
      "[ 0.         18.27566688 27.60434748 17.17556404 18.81488772 38.27531842\n",
      " 16.24807681 46.3788745  15.32970972 25.43619468]\n"
     ]
    }
   ],
   "source": [
    "def euclidean_distances(documents):\n",
    "    num_documents = len(documents)\n",
    "    documents_length = len(documents[0])\n",
    "    \n",
    "    distances = np.zeros((num_documents, num_documents))\n",
    "\n",
    "    for i in range(num_documents):\n",
    "        for j in range(i, num_documents):\n",
    "            # loop through every pair of images\n",
    "            # calculate the Euclidean distance between the two images\n",
    "            \n",
    "            dist = 0\n",
    "            for k in range(documents_length):\n",
    "\n",
    "                dist += (documents[i][k] - documents[j][k])**2\n",
    "\n",
    "            dist = np.sqrt(dist)\n",
    "            \n",
    "            distances[i, j] = dist\n",
    "            distances[j, i] = dist\n",
    "\n",
    "    return distances\n",
    "\n",
    "distances_manual = euclidean_distances(normalized_documents)\n",
    "\n",
    "print(distances_manual[0])\n"
   ]
  },
  {
   "cell_type": "code",
   "execution_count": 41,
   "metadata": {},
   "outputs": [
    {
     "name": "stdout",
     "output_type": "stream",
     "text": [
      "[1.         0.31275985 0.51513964 0.32130928 0.37335749 0.42218828\n",
      " 0.27467634 0.30501928 0.28688525 0.40647549]\n"
     ]
    }
   ],
   "source": [
    "def compute_cosine_similarity(documents):\n",
    "\n",
    "    # get the dot product of each pair of images\n",
    "    # shape of dot_product: (num_images, num_images)\n",
    "    dot_product = np.dot(documents, documents.T)\n",
    "    \n",
    "    # calculate the norm of each image\n",
    "    norm = np.linalg.norm(documents, axis=1)\n",
    "\n",
    "    # this is the formula of cosine similarity\n",
    "    cosine_similarity = dot_product / np.outer(norm, norm)\n",
    "\n",
    "    return cosine_similarity\n",
    "\n",
    "cosine_similarities_numpy = compute_cosine_similarity(normalized_documents)\n",
    "print(cosine_similarities_numpy[0])"
   ]
  }
 ],
 "metadata": {
  "kernelspec": {
   "display_name": "3.10.13",
   "language": "python",
   "name": "python3"
  },
  "language_info": {
   "codemirror_mode": {
    "name": "ipython",
    "version": 3
   },
   "file_extension": ".py",
   "mimetype": "text/x-python",
   "name": "python",
   "nbconvert_exporter": "python",
   "pygments_lexer": "ipython3",
   "version": "3.10.13"
  }
 },
 "nbformat": 4,
 "nbformat_minor": 2
}
